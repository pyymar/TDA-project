{
 "cells": [
  {
   "cell_type": "markdown",
   "metadata": {},
   "source": [
    "# Classification exercises\n",
    "\n",
    "\n",
    "This is a modified, more compact version of the SVM text classification code from the classification notebook. You may wish to use this as a starting point for doing some of the exercises."
   ]
  },
  {
   "cell_type": "markdown",
   "metadata": {},
   "source": [
    "(This first piece of code just imports the necessary libraries.)"
   ]
  },
  {
   "cell_type": "code",
   "execution_count": 1,
   "metadata": {},
   "outputs": [],
   "source": [
    "from pandas import read_csv\n",
    "from sklearn.model_selection import train_test_split\n",
    "from sklearn.feature_extraction.text import TfidfVectorizer\n",
    "from sklearn.svm import LinearSVC\n",
    "from sklearn.metrics import accuracy_score, confusion_matrix\n",
    "from eli5 import show_weights"
   ]
  },
  {
   "cell_type": "markdown",
   "metadata": {},
   "source": [
    "# Milestone III"
   ]
  },
  {
   "cell_type": "code",
   "execution_count": 50,
   "metadata": {},
   "outputs": [
    {
     "name": "stdout",
     "output_type": "stream",
     "text": [
      "Feature counts:\n",
      "4    1000\n",
      "0    1000\n",
      "\n",
      "       class                                               text\n",
      "387       0   OK, olen juuri päättynyt kuunnellen C.D. Pred...\n",
      "808       0   Kirjoittaja kirjoittaa negatiivisia kommentte...\n",
      "128       0   Aloitin koko sarjan muutama vuosi sitten, kun...\n",
      "1393      4   Tämä on tyypillinen J-Walk kirja, jossa on pa...\n",
      "398       0   Olen yleensä suuri fani kirjoja lapsille, ja ...\n",
      "1934      4   Ensinnäkin haluan sanoa, että olen valtava Se...\n",
      "1612      4   Varmasti aihe materiaali on mielenkiintoinen....\n",
      "470       0   Tämä näyttää Shot-on-video alhaisen budjetin ...\n",
      "674       0   Tämä oli nopea lukea, mutta se olisi voitu ki...\n",
      "1295      4   Ystäväni kertoi minulle tämä kirja on uskomat...\n"
     ]
    }
   ],
   "source": [
    "#Translated data\n",
    "\n",
    "import pandas as pd\n",
    "\n",
    "def class_counts(df, label='class'):\n",
    "    return df[label].value_counts().to_string(header=None)\n",
    "\n",
    "#separate class, id, etc information from each line\n",
    "text_data = pd.read_csv('translations.csv', sep='\\t', names=('class', 'text'))\n",
    "text_data = text_data[['class', 'text']]   \n",
    "\n",
    "print(\"Feature counts:\")\n",
    "print(class_counts(text_data))\n",
    "\n",
    "#divide into train, devel and test sets\n",
    "train_data, devel_and_test_data = train_test_split(text_data, test_size=0.4, random_state=1234)\n",
    "devel_data, test_data = train_test_split(devel_and_test_data, test_size=0.5, random_state=5678)\n",
    "\n",
    "train_Y, train_texts = train_data['class'], train_data['text']\n",
    "devel_Y, devel_texts = devel_data['class'], devel_data['text']\n",
    "test_Y, test_texts = test_data['class'], test_data['text']\n",
    "\n",
    "\n",
    "print(\"\\n\", train_data[0:10])"
   ]
  },
  {
   "cell_type": "code",
   "execution_count": 62,
   "metadata": {},
   "outputs": [
    {
     "name": "stdout",
     "output_type": "stream",
     "text": [
      "Feature counts:\n",
      "4    108\n",
      "0     94\n",
      "\n",
      "      class                                               text\n",
      "159      0  Turha ostos,Kuvittelin, että Surface Pron ja L...\n",
      "31       4  meikkipeili. ostin tyttärelle lahjaksi tämän j...\n",
      "48       4  Hyvin toimiva tuote. Asentaminen onnistui aika...\n",
      "63       4  Helppo ja huomaamaton Tämä F-Securen SAFE on n...\n",
      "59       4  Kaikki samassa. Tuotteen ehdotton hyvä puoli o...\n",
      "5        4  Yksinkertaisen näköinen kapistus, mutta yllätt...\n",
      "7        0  Ei sovi minulle. Tuote ei auta minua ollenkaan...\n",
      "187      4  Laadukas tabletti upealla näytöllä,Ostin tämän...\n",
      "110      4  Suosittelen. Kyseisellä tuotteella saimme sydä...\n",
      "197      0  Ei toimi auton käydessä,Ostin aiemmin saman va...\n"
     ]
    }
   ],
   "source": [
    "#Finnish data\n",
    "\n",
    "import pandas as pd\n",
    "import random\n",
    "\n",
    "def class_counts(df, label='class'):\n",
    "    return df[label].value_counts().to_string(header=None)\n",
    "\n",
    "#separate class, id, etc information from each line\n",
    "finnish_data = pd.read_csv('verkkokauppa.csv', sep='\\t', names=('class', 'text'))\n",
    "finnish_data = finnish_data[['class', 'text']]   \n",
    "\n",
    "fin_data, useless_data = train_test_split(finnish_data, test_size=1, random_state=1234)\n",
    "\n",
    "print(\"Feature counts:\")\n",
    "print(class_counts(fin_data))\n",
    "\n",
    "finnish_Y, finnish_texts = fin_data['class'], fin_data['text']\n",
    "\n",
    "\n",
    "print(\"\\n\", fin_data[0:10])"
   ]
  },
  {
   "cell_type": "code",
   "execution_count": 63,
   "metadata": {},
   "outputs": [],
   "source": [
    "#Amazon\n",
    "space_tokenizer = lambda text: text.split()\n",
    "\n",
    "vectorizer = TfidfVectorizer(tokenizer=space_tokenizer, ngram_range=(1,2))\n",
    "vectorizer.fit(train_texts)\n",
    "train_X = vectorizer.transform(train_texts)\n",
    "devel_X = vectorizer.transform(devel_texts)\n",
    "#test_X = vectorizer.transform(test_texts)\n",
    "finnish_X = vectorizer.transform(finnish_texts)"
   ]
  },
  {
   "cell_type": "code",
   "execution_count": 65,
   "metadata": {},
   "outputs": [
    {
     "name": "stdout",
     "output_type": "stream",
     "text": [
      "Train: 1200\n",
      "0    602\n",
      "4    598 \n",
      "\n",
      "Devel: 400\n",
      "0    204\n",
      "4    196 \n",
      "\n",
      "Test: 400\n",
      "4    206\n",
      "0    194 \n",
      "\n",
      "Test (Finnish): 202\n",
      "4    108\n",
      "0     94 \n",
      "\n"
     ]
    }
   ],
   "source": [
    "#Distribution of texts and classes in the dataset\n",
    "\n",
    "print(\"Train:\", len(train_texts))\n",
    "print(class_counts(train_data), \"\\n\")\n",
    "\n",
    "print(\"Devel:\",len(devel_texts))\n",
    "print(class_counts(devel_data), \"\\n\")\n",
    "\n",
    "print(\"Test:\",len(test_texts))\n",
    "print(class_counts(test_data), \"\\n\")\n",
    "\n",
    "print(\"Test (Finnish):\",len(finnish_texts))\n",
    "print(class_counts(fin_data), \"\\n\")"
   ]
  },
  {
   "cell_type": "code",
   "execution_count": 66,
   "metadata": {},
   "outputs": [
    {
     "name": "stdout",
     "output_type": "stream",
     "text": [
      "C:  0.001 \tTrain:  0.03934426229508197 \tDevel:  0.0\n",
      "C:  0.01 \tTrain:  0.6050605060506051 \tDevel:  0.12957746478873242\n",
      "C:  0.1 \tTrain:  0.6870095902353968 \tDevel:  0.21994884910485935\n",
      "C:  1 \tTrain:  0.6965342349957734 \tDevel:  0.2239185750636132\n",
      "C:  10 \tTrain:  0.7000835421888053 \tDevel:  0.21428571428571427\n",
      "C:  100 \tTrain:  0.701082431307244 \tDevel:  0.20971867007672634\n"
     ]
    }
   ],
   "source": [
    "from sklearn import metrics\n",
    "\n",
    "train_results = []\n",
    "devel_results = []\n",
    "results = []\n",
    "\n",
    "for c in (0.001, 0.01, 0.1, 1, 10, 100):\n",
    "    classifier = LinearSVC(C=c, class_weight=None, max_iter=100000, loss=\"squared_hinge\")\n",
    "    classifier.fit(train_X, train_Y)\n",
    "    pred_train = classifier.predict(train_X)\n",
    "    #train_results.append({ 'C': c, 'F1': metrics.f1_score(train_Y, pred, pos_label=4), 'Precision': metrics.precision_score(train_Y,pred, pos_label=4), 'Recall': metrics.recall_score(train_Y,pred, pos_label=4)})\n",
    "    pred_devel = classifier.predict(devel_X)\n",
    "    #devel_results.append({ 'C': c, 'F1': metrics.f1_score(devel_Y, pred, pos_label=4), 'Precision': metrics.precision_score(devel_Y,pred, pos_label=4), 'Recall': metrics.recall_score(devel_Y,pred, pos_label=4)})\n",
    "    print(\"C: \",c, \"\\tTrain: \", metrics.f1_score(train_Y, pred_train, pos_label=4), \"\\tDevel: \", metrics.f1_score(devel_Y, pred_devel, pos_label=4))\n",
    "#    results.append({\"C\": c, \"Train F\": metrics.f1_score(train_Y, pred_train, pos_label=4), \"Devel F\": metrics.f1_score(devel_Y, pred_devel, pos_label=4)})"
   ]
  },
  {
   "cell_type": "code",
   "execution_count": 67,
   "metadata": {},
   "outputs": [
    {
     "name": "stdout",
     "output_type": "stream",
     "text": [
      "CPU times: user 28 ms, sys: 0 ns, total: 28 ms\n",
      "Wall time: 25.4 ms\n"
     ]
    }
   ],
   "source": [
    "%%time\n",
    "classifier = LinearSVC(\n",
    "    C=1.0,\n",
    "    class_weight=None,\n",
    "    max_iter=100000,\n",
    "    loss='squared_hinge'\n",
    ")\n",
    "classifier.fit(train_X, train_Y)"
   ]
  },
  {
   "cell_type": "code",
   "execution_count": 68,
   "metadata": {},
   "outputs": [
    {
     "name": "stdout",
     "output_type": "stream",
     "text": [
      "CPU times: user 0 ns, sys: 0 ns, total: 0 ns\n",
      "Wall time: 1.03 ms\n"
     ]
    }
   ],
   "source": [
    "%%time\n",
    "pred_test = classifier.predict(test_X)\n",
    "pred_finnish = classifier.predict(finnish_X)"
   ]
  },
  {
   "cell_type": "code",
   "execution_count": 46,
   "metadata": {},
   "outputs": [
    {
     "name": "stdout",
     "output_type": "stream",
     "text": [
      "accuracy 16.00%\n",
      "precision 16.84%, recall 16.02%, f-score 16.42%\n"
     ]
    }
   ],
   "source": [
    "#Metrics for translated test set\n",
    "\n",
    "accuracy = accuracy_score(test_Y, pred_test) \n",
    "tn, fp, fn, tp = confusion_matrix(test_Y, pred_test, labels=[0, 4]).ravel()\n",
    "precision = tp / (tp + fp)\n",
    "recall = tp / (tp + fn)\n",
    "f_score = 2 * precision * recall / (precision + recall)\n",
    "\n",
    "\n",
    "print('accuracy {:.2%}'.format(accuracy))\n",
    "print('precision {:.2%}, recall {:.2%}, f-score {:.2%}'.format(precision, recall, f_score))"
   ]
  },
  {
   "cell_type": "code",
   "execution_count": 69,
   "metadata": {},
   "outputs": [
    {
     "name": "stdout",
     "output_type": "stream",
     "text": [
      "accuracy 51.49%\n",
      "precision 55.68%, recall 45.37%, f-score 50.00%\n"
     ]
    }
   ],
   "source": [
    "#Metrics for Verkkokauppa test set\n",
    "\n",
    "accuracy = accuracy_score(finnish_Y, pred_finnish) \n",
    "tn, fp, fn, tp = confusion_matrix(finnish_Y, pred_finnish, labels=[0, 4]).ravel()\n",
    "precision = tp / (tp + fp)\n",
    "recall = tp / (tp + fn)\n",
    "f_score = 2 * precision * recall / (precision + recall)\n",
    "\n",
    "\n",
    "print('accuracy {:.2%}'.format(accuracy))\n",
    "print('precision {:.2%}, recall {:.2%}, f-score {:.2%}'.format(precision, recall, f_score))"
   ]
  },
  {
   "cell_type": "code",
   "execution_count": 71,
   "metadata": {},
   "outputs": [
    {
     "name": "stdout",
     "output_type": "stream",
     "text": [
      "Incorrect predictions: 336 / 400\n",
      "\n",
      "False positives:  173\n",
      "(0, 4, ' Joten olin aallokko net... kuunnellen itsemurha kuninkaat taustalla.... Ajattelu... Okei joten olen juuri voittanut Young Indian Jones kaupan käynti kortti asettaa... Mitä muuta minun pitäisi saada, että on Sean Patrick Flannery siinä! HA!  Tässä mennään... elokuvan BRITNEY MURPHY samoin-Pisteet! Hyvin... Olin Valitettavasti Valitettavasti... hyvin järkyttynyt, että olen maksanut tämän paljon rahaa elokuvan IMI tämän huonosti.... Jos pidät omituinen musta komeukset... Tämä elokuva on sinua varten... mutta ei minulle! Sean Patrick Flannery ajaa ympäriinsä hänen wifes luuranko... Britney Murphy aiheuttaa hänen sulhanen tappaa itsensä, koska hän ei halua naida häntä.... se kaikki vain IMI...  Sean vaikka... on edelleen tietenkin seksikäs seksikäs! ja niin on brtney Murphy-mutta luulen, että hän näyttää paremmalta kuin ohut vaalea.. kuin vauva rasvaa brunette...\",')\n",
      "(0, 4, ' Anil on muovia-jos hän on mitään herkkyyttä tai kulttuurisia siteitä hänen syntymästään maahan, ne ovat piilossa.  Kuten joku syntynyt & esille Sri Lankassa, tunsin tilanne olisi voitu selittää enemmän muulle maailmalle.  Ja yhtäkkiä Tämä muovi Anil, joka ei ole osoittanut mitään tunteita, ei tunteita (ei edes yllätys) nousee edessä armeijan miesten ja paneeli väittäen \"olet tappaa meidät!\"-meille?  Ja mistä tämä tunne on perä isin.  Kukaan ei ole edes varma, miksi Sailor on kuollut-oli se vahingossa ja tarkoitti toista, oli hän tappoi JVP kieltäytymisestä mennä lakkoon?  Miksi helmi-Miner tappoi kuoleman joukkueet? -mitään ei selitetty.  Vaikka loppu-ei Sarath & Gamini vain kuolla-oli se unelma?  Oliko se kaikki vain meri kylpy Intian valta merellä Mt. Lavinia?\",')\n",
      "(0, 4, ' Tämä elokuva on niin paha, että käännyin sen pois noin tunnin kuluttua.  Valo kuvaus on erinomainen, puvut ovat erinomaisia, kirjoittaminen huono, editointi huonompi, ja johtaja olisi syytteeseen väärinkäytöksiä.  Olen lukenut useita elämä kertoja Alexander ja tämä elokuva tuntui valita eri jaksoista ja sitoa ne yhteen kuin sarjan Vignettes.  Se sitten siirtyy edestakaisin nuoruutensa ja hänen kypsyytensä siihen pisteeseen, että ei ole jatkuvuutta ja se on lähes mahdotonta seurata, mitä on tekeillä.  Siinä jätetään huomiotta, että Alexander oli laajalti uskotaan olevan osapuolena isänsä murhan.\",')\n",
      "(0, 4, ' On paljon viisautta on saatu aboriginaalien kulttuuria, mutta \"viisaus\" tässä kirjassa ei ole aboriginaalien, vaan pikemminkin koostuu kirjailija.  Hänen olisi pitänyt perustua hänen kirjan todellinen Aborigininit ja jakoi todellisen kulttuurin, tai perustuu sen täysin kuvitteellinen väestöstä.  Näin lukijat eivät usko valheita hän kertoo Australiasta.  Kirja ei tehdä yksi ajatella monia puutteita länsimaisen kulttuurin, joka on hyvä, mutta tehdä niin, kun turmelee kotimainen kulttuuri on yksinkertaisesti kauhistuttava.  Hän ei saisi hyötyy tästä kirjasta\",')\n",
      "(0, 4, ' Olen samaa mieltä joidenkin muiden arvioijat-eivät saa tätä kirjaa, ellet halua * kaiken * tästä aiheesta-tämä on kirjoittanut henkilö, joka ei todellakaan ymmärrä käsitteitä takana, miksi useimmat ihmiset lävistäneet. Myös-saat lisää kuvia ja kuvituksia Keski määrin tatuointi Mag\",')\n",
      "(0, 4, ' Jos etsit jokaista yksityiskohtaa tiedetään modernin miehen osalta kaikki muut elokuvat Mel Gibson koskaan näytteli tai suunnattu, tämä on kirja sinulle.  Jos etsit todellista tietoa Into himo, vain siirtyä viime sivuja ja olet edelleen pettynyt.  Minäkin häpeän sanoa Vietin paljon aikaa kahlaa läpi kaikki yksityiskohdat suurin osa tämän kirjan, toivoen päästä asiaan.  Erittäin pettymys\",')\n",
      "(0, 4, ' Kirjailija, joka on viettänyt sotilas elämänsä lukea johtajuutta, yrittää kirjoittaa kirjan johtajuutta.  Mitä hän päätyi kirjoittaminen oli kirja lukea johtajuutta, ja koska hänen oma rajallinen kirjallisesti kyky, vaikka hänen kirjallisesti suosituksia ei voi luottaa.  Aion mennä lukemaan Heinlein ja katso jos en voi saada parempia suosituksia kuin tämä\",')\n",
      "(0, 4, ' Jos olet taitava tieto koneiden kanssa tämä kirja ei ole sinua varten. Olin hyvin pettynyt. Ei \"salaisuuksia\" täällä. Aivan tavallinen jokapäiväinen aine I-KIRJAIN ennestään osata. Edellinen Windows Secrets kirjat olivat paljon parempia\",')\n",
      "(0, 4, ' Olen lukenut läpi tämän kirjan kansi kattaa kahdesti yrittää kiusata pois helmiä oivalluksia. Tiedot on olemassa, mutta erittäin kompakti kirjoitus tyyli ja huono ulkoasu tekevät pyrkiminen vaikeaa. Lisäksi esimerkit ovat hyvin pinnallisia. Jahka Ive \\' koristeltu asia jokseenkin SystemC I-KIRJAIN kuulla LRM (IEEE 1666) ja I-KIRJAIN harvoin sisu taaksepäin jotta nyt kuluva kirjanpidollinen\",')\n",
      "(0, 4, ' Hänen johdanto, kirjailija yrittää turhaan laittaa Merrill samaan luokkaan kuin Morgan ja muut suuret rahoittajat. Ongelmana on, että hän ei ollut rahoittaja, vain kaveri Ratsastus suuntaus vähittäismyynnissä 1920-luvulla. Mutta hänen kiitollisuutensa oman henkilökohtaisen eläke rahaston arvostaa 1990-luvulla ja liittämällä se ihmisiä kuin Merrill on erittäin kiusallista. Tämä viittaa siihen, että kirjoittaja yrittää mielistellä itsensä Merrill yritys. Hieman balatantti. Lisää siihen pisteeseen, Mr. Perkins ei tunnu ymmärtävän hänen aihe erittäin hyvin. Hän jatkuvasti viittaa Takahuone Merrill kuin \"Backstage.\" Takahuone ja sen ongelmat oli iso aihe Wall St 1950-luvulta, vaikka Perkins näyttää tietämätön koko ongelma ja jatkuvasti viittaa siihen Backstage. Onko kukaan koskaan tutkimuksen aihe niin huonosti? Olipa Merrill ansaitsee täysimittainen elämä kerta on edelleen epäselvä, kun luet tätä amatöörillistä yritystä\",')\n",
      "(0, 4, ' Tämä elokuva ei ole niin paha kuin AVTAK eikä typerä kuin Moonraker, mutta se Bond elokuva kukaan ei välitä (joko rakastaa tai vihaa). Sen vain siellä. Tämä elokuva on yksi alin rahaa tehdä elokuvia Bond-sarjassa; se vain tekee $98 000 000 ja useimmat ihmiset eivät koskaan listalla sitä. Ehkä koska se on vaikea seurata elokuvan ja elokuvan tekijät yrittivät käteistä on Kung Fu villitys, joka saavutti huippunsa noin kerran tämän elokuvan.\",')\n",
      "(0, 4, ' Kuten roomalaiskatolinen arkki hiippa kunnassa Bostonin episkeit viime pappi ahdistelua skandaalit, olen hyvin tietoinen siitä, että minun kirkko on enemmän kuin sen osuus ongelmista. Olen ainakin yhtä kriittinen sen vikoja kuin seuraava henkilö, mutta tämä oli kirja, joka muka paikantaa kirkon perustavanlaatuinen vika, että en vain voinut tuoda itseäni kuin.\",')\n",
      "(0, 4, ' Lapseni (Okei, mieheni) osti minulle nuorempi keitto kirja äitienpäivänä viime vuonna. Oma 3-vuotias ja olen nauttinut useita reseptejä pois, että kirja. Päätin kokeilla ja löytää toinen kirja, että voisimme nauttia myös. Kun olet lukenut online-arvosteluja tämän kirjan, Tein ostaa. Kuitenkin, kun se saapui, olin disapointed löytää paljon reseptejä, jotka eivät sovi perheeni makuun. Ajattelin kuvituksia reseptit oli fiksu idea, mutta ei pidä ajatuksesta flipping edestakaisin piirustuksista yksityiskohtaisia ohjeita. Olen palautus järjestelmä tämän kirjan ja alkaa jälleen minun pyrkimys löytää keitto kirja, että lapseni ja voin nauttia yhdessä\",')\n",
      "(0, 4, ' On tuskallisen selvää, että jokainen, joka antoi tämän kirjan enemmän kuin kaksi tähteä ovat epäonnistumisia naisten ja on vähän tai ei lainkaan kokemusta alalla viettely taiteen. Olen vain sanoa tämän niin, että opit minun ja muiden virheitä täällä. Opin kova tapa ostamalla monia kirjoja, kuten nämä ja opiskelu niitä vain ymmärtää se oli valtava ajan hukkaa. u00c4Lu00c4 ETSI NIIN SANOTTUJA SIGNAALEJA Nu00c4HTu00c4VYYS. OLETETAAN Nu00c4HTu00c4VYYS. Jos olet \"päätäsi\", miettiä, mikä on tai ei ole kehon kielen signaali veto voima sinulla ei ole luonnollista keskustelua ja näytät Chode. Tämä ei tarkoita vain olla sinun sosiaalisesti jälkeenjäänyt itse ja edelleen pitkästyttää häntä kyntämällä on merkityksettömän keskustelun ja hyväksynnän hakevat käyttäytymistä. Tietää, että naiset usein antaa merkkejä epäkiinnostuksen vaikka he pitävät sinua testi nähdä, jos olet todella \"cool sosiaalisesti sulava\" kaveri te läsnä. He myös osoittavat merkkejä epäkiinnostuksensa niin, että ne eivät Näytä liian helposti voitti yli tai näyttää Tramps.\",')\n",
      "(0, 4, ' Rakas Amazon, u00c4lä koskaan suosittele mitään kiitollinen kuollut minulle koskaan! Pidän sitä loukkaus minun kiistatta hyvä maku musiikin ja elokuvien ja niin. Yritin astua ulos itseni ja yritti ymmärtää, miksi tämä \"bändi\" on niin hemmetin suosittu, ja olen edelleen mielelläni dont get it. Pahin osa on olen nähnyt tyhmä Jerry joitakin dokumentti IFC ja nautin mitä hän oli pelissä, mutta tämä kiitollinen kuollut? He ovat tylsiä! Ei täyteläinen, tylsä! Heidän on ero\",')\n",
      "\n",
      "\n",
      "False negatives:  163\n",
      "(4, 0, ' Muistan lukeneen \"jaoston\" selvästi. Jotenkin tämä kirja ei edes lähellä tätä standardia. Juoni on epämääräinen tarpeettomia käänteitä ja käännöksiä. Merkit ovat vahvasti kuvattu, mutta yksikään niistä osoittautuu pysyvän pois\",')\n",
      "(4, 0, ' Mitä Dooms \"poika nimeltä Gabriel\" on yhdistelmä tai liian paljon epäselvyyttä lopussa ja liian vähän keskittyä koko.  Mennessä epätyydyttävä loppuun, en ole koskaan tuntenut mitään yhteyttä kirjan tai suhteellisen tasainen merkkiä.  Saattaa vain olla, että olen lukenut paljon parempia kirjoja aiheesta nuoren miehen kamppailevat hänen seksuaalinen identiteetti.\",')\n",
      "(4, 0, ' Mies Body\" on ikävä ja banaali. Ehkä perustutkintoa löytäisi kirjan valaisevan, mutta kuka tahansa, joka on antanut muutaman minuutin ajatellut modernin amerikkalaisen kuva uksia miesten seksuaalisuus ei löydä mitään uutta täällä\",')\n",
      "(4, 0, ' Olen innokas urheilun fani ja rakastan jalka palloa, mutta anteeksi, en nauti tästä kirjasta yksi bitti. Pidin odottaa Grisham joka kirjoittaa pakottavia näytelmiä (Broker, King of Torts) Pop ulos, mutta tajusin puoli välissä se ei tule tapahtumaan. Kuten joku muu täällä tiivistää-\"se Chick valaistu kaverit, jotka pelataan lukion jalka pallo\"\",')\n",
      "(4, 0, ' Janet Taylor Lisle koukut sinua tarina, joka herättää parhaat suosittu fantasia joidenkin Peppi Pitkätossu heitetään sisään  Sitten hän tikkari lyöntejä sinulle masentava annos epäonnea vailla fantasiaa ja riisuttu kylmä, surullinen versio todellisuudesta, että iskut ja confounds.  Loppu ratkaisu liittyy psyykkisen sairauden, laiminlyönnin ja orphaning.  Lisä tietoja tällaisesta lähestymis tavasta nuoriso kirjallisuuden, tutustu \"Tervetuloa Lizard Motel\" Barbara Feinberg\",')\n",
      "(4, 0, ' Tämä oli yksittäinen kaikkein hirvittävät esimerkki \"teksti kirja\" olen koskaan ollut tyytymättömyyden käsitellä.  Erittäin huono editointi koko, ja usein jäsennys rakenne oli unnavigable.  Lisäämällä tähän ongelmaan, oli huono kieli oppi ja osia, jotka yksinkertaisesti tehnyt mitään järkeä.  \"... kannustin ohjelmat ovat tehokkaita pitkällä aika välillä niin kauan kuin ne eivät ole pudonnut pysyvästi jossain vaiheessa. \"  Ehdotukseni, jos sinulla on luokka, joka vaatii tämän oppi kirjan, löytää uusi luokka\",')\n",
      "(4, 0, ' Just-War kanta on usein väärin ja väärin soveltaa yrittää perustella konflikti, joka on jo alkanut.  Tämä kirja ei hyvää työtä palata klassinen käsitys teorian oikeudenmukainen sota.  Kuitenkin kirjailija tekee joitakin suuria oletuksia valtion ihmis kunnan ja unohtaa, että emme kykene hahmottaa oikeuteen tavalla, joka on valtion armon ilman puutteita synnin ja subjektiivinen tuomio\",')\n",
      "(4, 0, ' Tämä kirja on noin mies nimeltä Ray Atlee jonka isä on juuri kuollut, jättäen $3 000 000 selittämätön käteisellä.  Joku muu tietää rahaa.  Kolme suurta kysymystä kirja vastata ovat:\",')\n",
      "(4, 0, ' Halusin kovasti, kuten tämä kirja.  Kun aloin lukea sitä, olin järkyttynyt todeta, että asetus oli yhteisön College äitini ja minä molemmat osallistuivat.  u00c4itini, isoäitini ja minä olimme kaikki syntyneet tällä alueella.  Tätini juoksi ompelu kone tehtaan, joka muutti Meksikoon.  Lyhyesti sanottuna, tämä kirja tuskin soi totta.  Se luetaan kuin vaikutelmia ulkopuolinen näköinen sisään  Tämä ei ole kirja opettaa joku naisista etelässä, erityisesti ei naisia uudessa etelässä.  Se myy lyhyitä kiehtovia ja värikkäitä naisia Alabaman lahden rannikolla\",')\n",
      "(4, 0, ' Ottaa äskettäin lukenut muut Boleyn Girl on Philippa Gregory ja syntymän Venus jonka Sarah Dunant, olin hyvin pettynyt tähän romaaniin Jeanne Kalogridis.  Se ei vastaa monimutkaisuutta juoni, luonne tai tyyli löytyy kaksi muuta teosten historiallinen fiktio naisista; sen huonosti kirjoitettu, graafinen rakkaus kohta uksia vähentää sitä vieläkin\",')\n",
      "(4, 0, ' u00c4lä vaivaudu tuhlaa aikaasi tämän elokuvan, vaan lukea kirjaa.  Kirja oli yksi parhaista olen koskaan lukenut, elokuva jätti minut haluavat.  Vuokrasin elokuvan lukemisen jälkeen kirja ja koskaan tehnyt sitä koko matkan.  Joten ehkä olen epäoikeudenmukainen, koska en katsella koko elokuvan, mutta rehellisesti sanottuna en voinut, se vain ei tee tarinaa oikeuteen\",')\n",
      "(4, 0, ' Great ideoita kirjan, mutta se ei oikeastaan harjoittaa minua. Tunsin mitään yhteyttä merkkejä tai tunteita. Ei mitään erikoista. Ajattelin olla siihen ottaa kaupallinen valo kuva tutkinto, mutta en.  Voisin kuvitella, miten ihana otetut kuvat valokuvaaja kirja voisi olla, mutta ei mitään muuta.  Se on oikeastaan kaikki, mitä minulla on sanottavaa. Voit mitata tämän paremmin olen fani \"Lovely Bones\" Alice Sebold \"lasi Castle\", jonka Jeannette Walls, ja \"uinti\" Joanna Hershon vain muutamia mainitakseni.\",')\n",
      "(4, 0, ' Tämä kirja lukee hyvin vaikeaa, enkä voi uskoa sitä on määrätty opiskelijoille.\",')\n",
      "(4, 0, ' Se oli helppo lukea, hyvä alussa, mutta tunsin anna alas lopulta. Osia oli vaikea uskoa ja hieman cheesy. Ei yksi Jennifer parhaista\",')\n",
      "(4, 0, ' Lt bak vaikka epäilemättä mielenkiintoinen hahmo ei ole kovin mielenkiintoinen tarina tai juoni, jossa paljastaa itsensä. Tarina puuttuu kuvaus ja jatkuvasti viittaa tuoksuu Egyptin-kuten lannan. Liian paljon yksityiskohtia laitetaan meren kulun kauppaan ja ei tarpeeksi merkkejä ja syvyys merkkiä siinä. Siitä puuttuu väri, tunteet, Syvyys ja ei kuljeteta yksi Egyptiin kuten useimmat romaaneja olen lukenut\",')\n"
     ]
    }
   ],
   "source": [
    "classAndPrediction = list(zip(test_Y, pred_test, test_texts))\n",
    "incorrect = []\n",
    "for i in classAndPrediction:\n",
    "    if i[0] != i[1]:\n",
    "        incorrect.append(i)\n",
    "\n",
    "tn, fp, fn, tp = confusion_matrix(test_Y, pred_test, labels=[4, 0]).ravel()\n",
    "        \n",
    "print(\"Incorrect predictions:\", len(incorrect), \"/\", len(classAndPrediction))\n",
    "\n",
    "fps = []\n",
    "fns = []\n",
    "for i in range (1, 40): \n",
    "    if incorrect[i][1] == 4:\n",
    "        if len(fps) != 15:\n",
    "            fps.append(incorrect[i])\n",
    "    else:\n",
    "        if len(fns) != 15:\n",
    "            fns.append(incorrect[i])\n",
    "\n",
    "print(\"\\nFalse positives: \", fp)\n",
    "for i in fps:\n",
    "    print(i)\n",
    "print(\"\\n\")\n",
    "\n",
    "print(\"False negatives: \", fn)\n",
    "for i in fns:\n",
    "    print(i)"
   ]
  },
  {
   "cell_type": "code",
   "execution_count": 70,
   "metadata": {},
   "outputs": [
    {
     "name": "stdout",
     "output_type": "stream",
     "text": [
      "Incorrect predictions: 98 / 202\n",
      "\n",
      "False positives:  59\n",
      "(0, 4, 'Eivät toimi langattomasti,Jos kuulokkeissa on bluetooth -ominaisuus, voisi äkkiä kuvitella niissä olevan myös langaton kuuntelumahdollisuus. Vaan eipä ole. Kuulokkeissa on kuitenkin irrallinen usb-johto, jonka kuulokkeiden päässä oleva micro usb -liitäntä on erittäin altis vikaantumiselle. Miksi irrallinen johto, jos se on kerran välttämätön kuulokkeiden käyttämiseksi? ')\n",
      "(0, 4, 'Ihan OK, mutta... ...ei ole mielestäni täyden hintansa arvoinen. Onneksi oli alennuksessa ostaessani. Ei sovi mielestäni pienelle lapselle (ostaessani lapseni oli puolitoista vuotias). Kypärälle ei ole syvennystä ja vyöt ovat liian heppoiset, joten lapsi valahtaa helposti huonoon asentoon. Isommalle lapselle olisi passelimpi... mutta, kärry on sen verran pieni, että kovin iso lapsi ei kypärä päässä mahdu kyytiin. Kärryssä ei ole jousitusta, joten huonommassa maastossa ei varmastikaan ole kiva istua kyydissä. Satunnaiseen käyttöön sopiva ja ehkä esim. Päiväkoti- ja lähikauppareissuihin. Plussaa annan kärryn pienestä koosta, tukevuudesta ja ketteryydestä. Vaikea löytää mistään yhtä kapeaa yhden lapsen kärryä.')\n",
      "(0, 4, 'ilmais ohjelma monipuolisempi Tarvii tässä todeta et ohjemaan kun laitto rahansa hukkaan men. Ohjelmasta ei muuta sanottavaa kun lapsellinen ja tietysti yksinkertainen. Olis odottanut parempaa tekelettä')\n",
      "(0, 4, 'Ei pysy. Ideana on hyvä, mutta imukupit ovat surkeat. Tippuu helposti. Neliskulmainen muoto ei myöskään ole takapenkin ikkunoihin optimaalisin.')\n",
      "(0, 4, 'Heikot valot ja peili on polttavan kuuma. Glorifioitu yövalo/lämpöpatteri talven pimeyteen. Ei tällä meikata voi, mutta aika varmasti kananmunan saa paistettua. Heikko valo: kännykänkin näyttö valaisee enemän. Kasvojen on oltava vaaksan mitan päässä peilistä, jotta se valaisisi kasvojen edes hieman, mutta tällöin on oltava hämärässä huoneessa. Valaisu on olematon valaistussa huoneessa. Kuumenee: peilin lasi kuumenee 10 minuutin aikana sen verta, että ennemmin nappaan kädellä kiinni kylppärin lämmitetystä pyyhetelineestä kuin kosketan tämän peilin pintaa. Valojen heikkous tekee peilista hyödyttömän. Kasvojen on oltava L Ä H E L L Ä, jotta on edes mahdollista huomata mitään efektiä kasvoilla. Tällöinkään ei tosin pysty eliminoimaan muiden valonlähteiden luomia varjoja esimerkiksi silmien alla. Vain keltaiset Polttimo ja Luonnonvalo -asetukset tarjoavat sen verta valoa, että niin... Se että nuo asetukset tarjoavat edes sen verta valoa, että se on mahdollista huomata verrattuna kolmanteen valkoiseen Neonvalo-asetukseen ei nyt ole mikään meriitti. Valot ovat niin heikot, että kännykän näytön tarjoama valo on parempi kuin tämän peilin valot. Ja annas ollakaan, jos kattolamppu sattuu sijaitsemaan tämän lampun yllä. Tämän peilin käyttö valaistussa huoneessa on kuin yrittäisi valaista auringonvalon aiheuttamia varjoja kasvoilla palavalla tulitikulla. Itseasiassa, fake news. Palava tulitikku on huomattavasti valovoimaisempi kuin tämän peilin valot. Ja sitten se kuumeneminen, josta myös aikaisempi arvostelija mainitsi. Miten voi näin tehottomat valot kuumentaa itse peilin pinnan niin kuumaksi, ettei sitä voi koskea paljain sormin. Muilta ominaisuuksiltaan: runko painava ja tukeva vaikkakin halvan oloinen. Peilin kääntäminen on pehmeää ja se jää haluttuun asentoon näin suoraan paketista testattuna. En tosin jää ottamaan selvää kuinka pian tuo löystyy niin ettei peilistäkään ole mitään hyötyä. Peili on syystä Huippuhalpa tarjoustuote! Verkkis sietäis poistaa tuotteen kokonaan myynnistä.')\n",
      "(0, 4, 'Kehitystyö hidasta F-Securella Yhteensopivuus eli asennus ongelmia suoraan F-Securelta ostetun ja \"kivijalka\" kaupan versioissa. Infottu F-Securea, mutta verkkainen on toiminta tuella. Ei ole onneksi ainoa vaihtoehto olemassa, muut ilmeisesti notkeampia toimintatavoiltaan. Pettymys jo toisen kerran vuoden sisällä.')\n",
      "(0, 4, 'Ei vastannut odotuksia,Ei soveltunut omaan käyttöön, kuvaus pitäisi tapahtua kohtisuoraan jotta liiketunnistin reagoisi riittävän ajoissa. Välillä ei tunnista liikettä lainkaan, varsinkin yön aikana huurtuu. Pimeällä kuvasta ei saa juuri mitään irti, valoisallakaan esim auton rekisteritunnusta ei pysty lukemaan vaikka asetuksista kuvanlaatu säädetty parhaaksi. Asennus oli erittäin nopea ja helppo, varmaan mökki tms käyttöön ihan asiansa ajavat kamerat. ')\n",
      "(0, 4, 'Pakollinen käyttis jos haluaa pelata Asensin tämän pelikoneeseen. Mieluummin käyttäisin Linuxia tai jotain muuta käyttistä mutta pelit toimii tällä. Yksityisyys arveluttaa ja lisäksi hinta on melko kallis. En käyttäisi tätä jos ei olisi \"pakko\".')\n",
      "(0, 4, 'Äänekäs rimpula,Asenus sujui kädenkäänteessä, joten siitä plussaa. Tämä on äänekkäin näppäimistö mitä koskaan olen käyttänyt, vaikka kuinka varovasti kirjottaisi, kuuluu aikamoinen räminä ja pauke. Näppäintuntuma on huono, ja kirjoittaessa sormet tulee kipeäksi. En suosittele työkäyttöön tai etäpäivänäppäimistöksi. Jos käyttö on hyvin satunnaista tai lähinnä sähköposteihin vastaamista niin pärjännet tällä. Hiiri samaa rimpulasarjaa, nitisee ja natisee liikuteltaessa. Hinta-laatu jälleen kertoi sen ettei halvalla saa hyvää. Hyvä verkkokauppa voisitteko tuoda myyntiin _valkoisen_ langattoman hiiri-näppissetin joka olisi laadukas businesssetti? ')\n",
      "(0, 4, 'Hinta oli halpa, mutta en saanut kunnollista ajojä. En saanut kunnollista ajojälkeä kyseisellä tuotteella.')\n",
      "(0, 4, 'Masokisteille Ei voi suositella muille kuin masokisteille. Päivitys ei toimi Laiteiden ajureiden ajaminen ja päivittäminen lähes mahdotonta Asetusten muuttaminen yleensä mahdotonta tai vaikeaa Ei yhteensopiva suurimman osan laitteita kanssa esim. hukkasi dvd-aseman kesken päivän')\n",
      "(0, 4, 'Hirveesti kieltoja. En ole vielä kuukauden oston jälkeen päässyt laitetta testaamaan kun ohjeissa on älä käytä ennen sitä ja tätä tai sen ja tän jälkeen. Eikä saa käyttää tatuointien päältä. Katotaan nyt sit et jos se toimis edes sit johonkin..... mut nyt kyllä hintaansa nähden en saa kunnolla käytettyä.')\n",
      "(0, 4, 'Yksinkertaistettu toteutus. Laite on hintaisekseen laadukkaan oloinen, mutta toteutus on turhankin yksinkertainen ollakseen kovin mukava tai monipuolinen: luontevan ja mukavan käyttöasennon löytäminen on hankalaa. Muutaman kokeilun jälkeen käyttö on jäänyt vähälle.')\n",
      "(0, 4, 'Wutsch. Yllätyin tuotteen toimimattomuudesta, kun kuitenkin kyseessä on lasten potkupyörien laatumerkki. Kaikilta muilta ominaisuuksiltaan Wutsch on oikein hyvä, mutta keskeisin elementti eli potkimalla liikkuminen ei onnistu takapyörien läheisyyden vuoksi. Lapsen jalat osuvat joka potkulla takapyöriin ja liikkuminen ei ole sujuvaa. Lapsi ei pääse kokemaan liikkumisen vaivattomuutta, vaan liike töksähtää ja loppuu kesken joka potkulla.')\n",
      "(0, 4, 'Ei pysynyt kiinni. Sinänsä laadukas ja fiksun oloinen kulmasuoja menetti täysin merkityksensä todella heikon liiman takia. Ei pysynyt kunnolla puhdistetussa metallissa eikä laminaatista valmistetussa tasossa. 9kk ikäinen lapsi sai irti aivan liian helposti.')\n",
      "\n",
      "\n",
      "False negatives:  39\n",
      "(4, 0, 'meikkipeili. ostin tyttärelle lahjaksi tämän ja hän sanoi että peili kuumenee aika paljon jos valon unohtaisi päälle päiväksi päälle oisko palon vaara...')\n",
      "(4, 0, 'Helppo ja huomaamaton Tämä F-Securen SAFE on näpsäkästi paketoitu tuote vastaamaan juuri tätä nykyajan tarvetta, usean laitteen tietoturvaa. Moni meistä on sekakäyttäjä, webbiä käytetään puhelimella, tabletilla ja tietokoneella ym. Itse ostin 5 laitteen paketin, ja on asennettuna Windows ja Android-laitteissani. Ohjelma on helppo ja huomaamaton käytössä, niin kuin tietoturvaohjelman tulee ollakin. Kahden vuoden lisenssi on sopuhintainen paketti, suosittelen suomalaista :)')\n",
      "(4, 0, 'Kaikki samassa. Tuotteen ehdotton hyvä puoli on toimivuus useilla eri käyttöjärjestelmillä sekä lisenssi on helppo siirtää laitteesta toiseen. Kaikin puolin toimiva. Ainoa miinus oli asennus pc:lle jossa oli valmiina safe toiselta tililtä. Vaati poiston ja uudelleen asennuksen.')\n",
      "(4, 0, 'Yksinkertaisen näköinen kapistus, mutta yllättävän tehokasta hierontaa antava laite. Voimakkuutta voi säätää suht helposti tuotekuvassa näkyvillä kädensijoilla. Tuotteen laadulle tulee miinusta siitä, että luvattu lämmitystoiminto on täyttä puppua. Tästä taisi joku toinenkin arvostelija mainita, joten lienee enemmänkin tuotteen ominaisuus kuin vika. Lämmitystoiminto kytkee päälle punaiset valot, joilla voi lähinnä levittää lämmintä joulumieltä.')\n",
      "(4, 0, 'Hyvä! Tämä on tuttu minulle. On ollut vuosia käytössä F-secure internet security mutta nytten vaihdoin tähän F-secure safe. Helppo ottaa käyttöön ja helppo käyttää. Sain ilman ongelmia asennettua.')\n",
      "(4, 0, 'F-Secure Edullinen ja helppo asentaa koneelle.On myös riittävä suoja kotikoneelle.')\n",
      "(4, 0, 'Lämmitin.,Hyvin on toistaiseksi toiminut. Kuumenee käytössä todella kuumaksi, miltei polttavaksi.')\n",
      "(4, 0, 'Ströme-niskahierontalaite. Verrattuna aikaisempaan hakkaavaan \"hierontalaitteeseen\" tämä itseasiassa tuntuu hellemmältä, mutta avaa jumit tehokkaammin. Tällä saa hierottua hyvin myös kallonpohjasta jumit, samoin pohkeiden muljutus onnistuu ja miksei minkä tahansa muunkin lihaksen! Hintaisekseen oikeinkin mainio laite, suositeltu jo kavereillekin!')\n",
      "(4, 0, 'Homma toimii,Hei,Olen nyt pitänyt kuulokkeita käytössä kuukauden päivät. Hintaan nähden äänenlaatu on erittäin hyvä ja tarkka. Käyttömukavuus on kunnossa ja vaikka kuulokkeet olisivat olleet päässä monta tuntia putkeen, niin tuntuvat mukavilta jokatapauksessa. Ulkoasu on ehdottomasti hienoin mitä tähän mennessä olen nähnyt. Erittäin siistis valot sivuilla ja niitä pystyy helposti säätämään auran ohjelmalla. Mikki toimii ja kuuluu hyvin, ainoastaan rakenne on omaan makuun hieman lelun tuntuinen, mutta toimii kuten pitääkin. Massiiviset kuulokkeet mitkä sulkevat hyvin muun äänen / mölyn taustalta pois. Oikeastaan mitään huonoa sanottavaa ei ole, mutta aikaisemmat Sennheiser Game Zero:t mitkä oli, niin tykkäsin heidän mikki tekniikasta hitusen enemmän Pakkauksessa tulee vaihtopäät, eli niin nahkaiset kuin kankaiset ja siitä todella iso plussa! \"kosketusnäyttö\" ei ole kovin tarkka, mutta toimii.')\n",
      "(4, 0, 'Kalliita mutta laadukkaita. Omalla lapsella ei tuo oloa että olisi epämukava pissata housuun, mutta sinäänsä tuotteet ovat hyviä. Pesu 30 asteessa vähän mielestäni alakanttiin tuotteella jonne voi tulle vaikka ja mitä, mutta miedolla lämmöllä saa laitta kuivausrumpuun joten se helpottaa kuivauksessa.')\n",
      "(4, 0, 'Toimiva laite näytön siirtoon televisioon,Mulla oli jo vanhempi malli mökillä. Mökillä ei televisio näkynyt hyvin mutta kun kytkin kännykkäni Display adapterilla televisioon ja kännykään Ylen Areenan, niin homma alkoi pelittää. ')\n",
      "(4, 0, 'Mun mieli,Olin ostanut muutama päivä sitten. Olen käyttänyt matkalla. Olen tyytyväinen ostoksesta. Olen latanut lasten leffoja muistitikkuun. Koko matkalla lapset katsoivat elokuvia. Ääni ja näyttö olivat hyvä.')\n",
      "(4, 0, 'Yllätys paketti,Todella helppo oli ottaa käyttöön ja myös helppo käyttää. Vertaan kokemuksia muihin valvonta kameroihin. Ainoa mikä ihmetytti oli tukiasema joka poikkeaa täysin kuvasta mikä on mielestäni harhaan johtavaa mainosta. Tämän takia neljä tähteä.')\n",
      "(4, 0, 'Taattua F-Secure laatua Helppo asentaa ja tuo taattua turvaa viruksia ym. häiriköitä vastaan')\n",
      "(4, 0, 'Tietoturva ohjelmisto Erittäin hyvä systeemi usealle laitteelle luotettavaa tietoturvaa. Helppo käyttöinen ja mikä hienointa SUOMALAINEN tuote. Viidelle laitteelle kahdeksi vuodeksi ei tule kovin hintavaksi vuosi / laite.')\n"
     ]
    }
   ],
   "source": [
    "classAndPrediction = list(zip(finnish_Y, pred_finnish, finnish_texts))\n",
    "incorrect = []\n",
    "for i in classAndPrediction:\n",
    "    if i[0] != i[1]:\n",
    "        incorrect.append(i)\n",
    "\n",
    "tn, fp, fn, tp = confusion_matrix(finnish_Y, pred_finnish, labels=[4, 0]).ravel()\n",
    "        \n",
    "print(\"Incorrect predictions:\", len(incorrect), \"/\", len(classAndPrediction))\n",
    "\n",
    "fps = []\n",
    "fns = []\n",
    "for i in range (1, 40): \n",
    "    if incorrect[i][1] == 4:\n",
    "        if len(fps) != 15:\n",
    "            fps.append(incorrect[i])\n",
    "    else:\n",
    "        if len(fns) != 15:\n",
    "            fns.append(incorrect[i])\n",
    "\n",
    "print(\"\\nFalse positives: \", fp)\n",
    "for i in fps:\n",
    "    print(i)\n",
    "print(\"\\n\")\n",
    "\n",
    "print(\"False negatives: \", fn)\n",
    "for i in fns:\n",
    "    print(i)"
   ]
  }
 ],
 "metadata": {
  "kernelspec": {
   "display_name": "Python 3",
   "language": "python",
   "name": "python3"
  },
  "language_info": {
   "codemirror_mode": {
    "name": "ipython",
    "version": 3
   },
   "file_extension": ".py",
   "mimetype": "text/x-python",
   "name": "python",
   "nbconvert_exporter": "python",
   "pygments_lexer": "ipython3",
   "version": "3.5.2"
  }
 },
 "nbformat": 4,
 "nbformat_minor": 2
}
