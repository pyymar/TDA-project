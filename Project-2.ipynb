{
 "cells": [
  {
   "cell_type": "markdown",
   "metadata": {},
   "source": [
    "# Classification exercises\n",
    "\n",
    "\n",
    "This is a modified, more compact version of the SVM text classification code from the classification notebook. You may wish to use this as a starting point for doing some of the exercises."
   ]
  },
  {
   "cell_type": "markdown",
   "metadata": {},
   "source": [
    "(This first piece of code just imports the necessary libraries.)"
   ]
  },
  {
   "cell_type": "code",
   "execution_count": 1,
   "metadata": {},
   "outputs": [],
   "source": [
    "from pandas import read_csv\n",
    "from sklearn.model_selection import train_test_split\n",
    "from sklearn.feature_extraction.text import TfidfVectorizer\n",
    "from sklearn.svm import LinearSVC\n",
    "from sklearn.metrics import accuracy_score, confusion_matrix\n",
    "from eli5 import show_weights"
   ]
  },
  {
   "cell_type": "markdown",
   "metadata": {},
   "source": [
    "## Loading and splitting data"
   ]
  },
  {
   "cell_type": "code",
   "execution_count": 2,
   "metadata": {},
   "outputs": [
    {
     "name": "stdout",
     "output_type": "stream",
     "text": [
      "Feature counts:\n",
      "0    150035\n",
      "4    149883\n",
      "\n",
      "         class                                               text\n",
      "286234      0  I have another version of \"Cinderella\", but I ...\n",
      "62028       4  I love poverty to rich stories.  It's always i...\n",
      "56510       4  Loved it. Fun look at an often difficult situa...\n",
      "206997      0  It's funny...all of this antipathy towards the...\n",
      "189629      0  This must be one of the latest entries in the ...\n",
      "69346       4  I have long enjoyed watching crows.  This book...\n",
      "216626      0  I went out and bought this book after seeing t...\n",
      "36200       4  Great, safe and nice looking bumper!  I would ...\n",
      "205937      0  The author attempts to paint some trends from ...\n",
      "17334       4  There are lots of lists, the book is well orga...\n"
     ]
    }
   ],
   "source": [
    "#Amazon\n",
    "\n",
    "import pandas as pd\n",
    "\n",
    "def class_counts(df, label='class'):\n",
    "    return df[label].value_counts().to_string(header=None)\n",
    "\n",
    "#separate class, id, etc information from each line\n",
    "text_data = pd.read_csv('reviews_balanced.csv', sep='\\t', names=('class', 'text'))\n",
    "text_data = text_data[['class', 'text']]   \n",
    "\n",
    "print(\"Feature counts:\")\n",
    "print(class_counts(text_data))\n",
    "\n",
    "#divide into train, devel and test sets\n",
    "amazon_train_data, amazon_devel_and_test_data = train_test_split(text_data, test_size=0.4, random_state=1234)\n",
    "amazon_devel_data, amazon_test_data = train_test_split(amazon_devel_and_test_data, test_size=0.5, random_state=5678)\n",
    "\n",
    "amazon_train_Y, amazon_train_texts = amazon_train_data['class'], amazon_train_data['text']\n",
    "amazon_devel_Y, amazon_devel_texts = amazon_devel_data['class'], amazon_devel_data['text']\n",
    "amazon_test_Y, amazon_test_texts = amazon_test_data['class'], amazon_test_data['text']\n",
    "\n",
    "print(\"\\n\", amazon_train_data[0:10])"
   ]
  },
  {
   "cell_type": "code",
   "execution_count": 3,
   "metadata": {},
   "outputs": [
    {
     "name": "stdout",
     "output_type": "stream",
     "text": [
      "Feature counts:\n",
      "4    800000\n",
      "0    800000\n",
      "\n",
      "          class                                              tweet\n",
      "1063187      4  i wish i had a balloon t-shirt. maybe i shall ...\n",
      "7089         0  @ddlovato hey demi, wen are you and selena gon...\n",
      "633572       0   i think the huge bug bite the size of a large...\n",
      "1019991      4  slept in too late. lots to do, little time to ...\n",
      "438271       0                          Re: chocos. Its all over \n",
      "14104        0  so we never went to softball. o well haha. han...\n",
      "479775       0  @itshanni3  I felt sorry for the guy though be...\n",
      "254598       0         @Virkus Duck!  this makes me miss my duck.\n",
      "796035       0  My family are little shite-ers. Including Daddy. \n",
      "1114592      4  Goin back to work next week, so not looking fo...\n"
     ]
    }
   ],
   "source": [
    "#Sentiment 140\n",
    "\n",
    "import pandas as pd\n",
    "\n",
    "def class_counts(df, label='class'):\n",
    "    return df[label].value_counts().to_string(header=None)\n",
    "\n",
    "#separate class, id, etc information from each line\n",
    "text_data = pd.read_csv('../data/sentiment140.csv', sep='\\t', names=('class', 'id', 'time', 'query', 'user', 'tweet'))\n",
    "text_data = text_data[['class', 'tweet']]   \n",
    "\n",
    "print(\"Feature counts:\")\n",
    "print(class_counts(text_data))\n",
    "\n",
    "#divide into train, devel and test sets\n",
    "s140_train_data, s140_devel_and_test_data = train_test_split(text_data, test_size=0.4, random_state=1234)\n",
    "s140_devel_data, s140_test_data = train_test_split(s140_devel_and_test_data, test_size=0.5, random_state=5678)\n",
    "\n",
    "s140_train_Y, s140_train_texts = s140_train_data['class'], s140_train_data['tweet']\n",
    "s140_devel_Y, s140_devel_texts = s140_devel_data['class'], s140_devel_data['tweet']\n",
    "s140_test_Y, s140_test_texts = s140_test_data['class'], s140_test_data['tweet']\n",
    "\n",
    "\n",
    "\n",
    "print(\"\\n\", s140_train_data[0:10])"
   ]
  },
  {
   "cell_type": "markdown",
   "metadata": {},
   "source": [
    "## Featurization and vectorization"
   ]
  },
  {
   "cell_type": "code",
   "execution_count": 5,
   "metadata": {},
   "outputs": [],
   "source": [
    "#Amazon\n",
    "space_tokenizer = lambda text: text.split()\n",
    "\n",
    "vectorizer = TfidfVectorizer(tokenizer=space_tokenizer, ngram_range=(1,2))\n",
    "vectorizer.fit(amazon_train_texts)\n",
    "amazon_train_X = vectorizer.transform(amazon_train_texts)\n",
    "amazon_devel_X = vectorizer.transform(amazon_devel_texts)\n",
    "amazon_test_X = vectorizer.transform(amazon_test_texts)"
   ]
  },
  {
   "cell_type": "code",
   "execution_count": 6,
   "metadata": {},
   "outputs": [],
   "source": [
    "#Sentiment140\n",
    "space_tokenizer = lambda text: text.split()\n",
    "\n",
    "vectorizer = TfidfVectorizer(tokenizer=space_tokenizer, ngram_range=(1,2))\n",
    "vectorizer.fit(s140_train_texts)\n",
    "s140_train_X = vectorizer.transform(s140_train_texts)\n",
    "s140_devel_X = vectorizer.transform(s140_devel_texts)\n",
    "s140_test_X = vectorizer.transform(s140_test_texts)"
   ]
  },
  {
   "cell_type": "code",
   "execution_count": 8,
   "metadata": {},
   "outputs": [
    {
     "name": "stdout",
     "output_type": "stream",
     "text": [
      "Amazon\n",
      "Train: 179950\n",
      "0    89986\n",
      "4    89964 \n",
      "\n",
      "Devel: 59984\n",
      "0    30211\n",
      "4    29773 \n",
      "\n",
      "Test: 59984\n",
      "4    30146\n",
      "0    29838 \n",
      "\n",
      "\n"
     ]
    }
   ],
   "source": [
    "#Distribution of texts and classes in the datasets\n",
    "\n",
    "#Amazon\n",
    "print(\"Amazon\")\n",
    "print(\"Train:\", len(amazon_train_texts))\n",
    "print(class_counts(amazon_train_data), \"\\n\")\n",
    "\n",
    "print(\"Devel:\",len(amazon_devel_texts))\n",
    "print(class_counts(amazon_devel_data), \"\\n\")\n",
    "\n",
    "print(\"Test:\",len(amazon_test_texts))\n",
    "print(class_counts(amazon_test_data), \"\\n\\n\")\n",
    "\n"
   ]
  },
  {
   "cell_type": "code",
   "execution_count": 9,
   "metadata": {},
   "outputs": [
    {
     "name": "stdout",
     "output_type": "stream",
     "text": [
      "Sentiment140\n",
      "Train: 960000\n",
      "4    480309\n",
      "0    479691 \n",
      "\n",
      "Devel: 320000\n",
      "0    160171\n",
      "4    159829 \n",
      "\n",
      "Test: 320000\n",
      "0    160138\n",
      "4    159862 \n",
      "\n"
     ]
    }
   ],
   "source": [
    "#Distribution of texts and classes in the datasets\n",
    "\n",
    "#Amazon\n",
    "print(\"Sentiment140\")\n",
    "print(\"Train:\", len(s140_train_texts))\n",
    "print(class_counts(s140_train_data), \"\\n\")\n",
    "\n",
    "print(\"Devel:\",len(s140_devel_texts))\n",
    "print(class_counts(s140_devel_data), \"\\n\")\n",
    "\n",
    "print(\"Test:\",len(s140_test_texts))\n",
    "print(class_counts(s140_test_data), \"\\n\")"
   ]
  },
  {
   "cell_type": "markdown",
   "metadata": {},
   "source": [
    "## Training and prediction"
   ]
  },
  {
   "cell_type": "code",
   "execution_count": 11,
   "metadata": {},
   "outputs": [
    {
     "name": "stdout",
     "output_type": "stream",
     "text": [
      "C:  0.001 \tTrain:  0.7755387201711679 \tDevel:  0.7628176326693625\n",
      "C:  0.01 \tTrain:  0.8423235586758935 \tDevel:  0.8236507158432074\n",
      "C:  0.1 \tTrain:  0.9450299314338636 \tDevel:  0.8905556872439132\n",
      "C:  1 \tTrain:  0.9990163879765933 \tDevel:  0.9169370100027033\n"
     ]
    }
   ],
   "source": [
    "#Amazon\n",
    "from sklearn import metrics\n",
    "\n",
    "#train_results = []\n",
    "#devel_results = []\n",
    "amazon_results = []\n",
    "\n",
    "for c in (0.001, 0.01, 0.1, 1): #10, 100 out, need for speed\n",
    "    classifier = LinearSVC(C=c, class_weight=None, max_iter=100000, loss=\"squared_hinge\")\n",
    "    classifier.fit(amazon_train_X, amazon_train_Y)\n",
    "    amazon_pred_train = classifier.predict(amazon_train_X)\n",
    "    amazon_pred_devel = classifier.predict(amazon_devel_X)\n",
    "    print(\"C: \",c, \"\\tTrain: \", metrics.f1_score(amazon_train_Y, amazon_pred_train, pos_label=4), \"\\tDevel: \", metrics.f1_score(amazon_devel_Y, amazon_pred_devel, pos_label=4))\n",
    "    amazon_results.append({\"C\": c, \"Train F\": metrics.f1_score(amazon_train_Y, amazon_pred_train, pos_label=4), \"Devel F\": metrics.f1_score(amazon_devel_Y, amazon_pred_devel, pos_label=4)})"
   ]
  },
  {
   "cell_type": "code",
   "execution_count": 12,
   "metadata": {},
   "outputs": [
    {
     "data": {
      "text/plain": [
       "<matplotlib.axes._subplots.AxesSubplot at 0x7f4e95b86e48>"
      ]
     },
     "execution_count": 12,
     "metadata": {},
     "output_type": "execute_result"
    },
    {
     "data": {
      "image/png": "[encoded data removed]",
      "text/plain": [
       "<matplotlib.figure.Figure at 0x7f4e74582198>"
      ]
     },
     "metadata": {},
     "output_type": "display_data"
    }
   ],
   "source": [
    "from pandas import DataFrame\n",
    "DataFrame(amazon_results).plot(x='C', y=[\"Train F\", 'Devel F'], logx=True)"
   ]
  },
  {
   "cell_type": "code",
   "execution_count": 13,
   "metadata": {},
   "outputs": [
    {
     "name": "stdout",
     "output_type": "stream",
     "text": [
      "C: 0.001 \tTrain: 0.7520559940539417 \tDevel: 0.7402416779949956\n",
      "C: 0.01 \tTrain: 0.8063732525435299 \tDevel: 0.7892842235424454\n",
      "C: 0.1 \tTrain: 0.8817813090514833 \tDevel: 0.8160837556832643\n",
      "C: 1 \tTrain: 0.9900633547300896 \tDevel: 0.8176369512098999\n",
      "C: 10 \tTrain: 0.9982202866494424 \tDevel: 0.8042226062997847\n",
      "C: 100 \tTrain: 0.9985786476431062 \tDevel: 0.7913716366579\n"
     ]
    }
   ],
   "source": [
    "#Sentiment140\n",
    "from sklearn import metrics\n",
    "\n",
    "s140_results = []\n",
    "\n",
    "for c in (0.001, 0.01, 0.1, 1, 10, 100): #10, 100 out, need for speed\n",
    "    classifier = LinearSVC(C=c, class_weight=None, max_iter=100000, loss=\"squared_hinge\")\n",
    "    classifier.fit(s140_train_X, s140_train_Y)\n",
    "    s140_pred_train = classifier.predict(s140_train_X)\n",
    "    s140_pred_devel = classifier.predict(s140_devel_X)\n",
    "    print(\"C:\",c, \"\\tTrain:\", metrics.f1_score(s140_train_Y, s140_pred_train, pos_label=4), \"\\tDevel:\", metrics.f1_score(s140_devel_Y, s140_pred_devel, pos_label=4))\n",
    "    s140_results.append({\"C\": c, \"Train F\": metrics.f1_score(s140_train_Y, s140_pred_train, pos_label=4), \"Devel F\": metrics.f1_score(s140_devel_Y, s140_pred_devel, pos_label=4)})"
   ]
  },
  {
   "cell_type": "code",
   "execution_count": 16,
   "metadata": {},
   "outputs": [
    {
     "data": {
      "text/plain": [
       "<matplotlib.axes._subplots.AxesSubplot at 0x7f4e7b829b70>"
      ]
     },
     "execution_count": 16,
     "metadata": {},
     "output_type": "execute_result"
    },
    {
     "data": {
      "image/png": "[encoded data removed]",
      "text/plain": [
       "<matplotlib.figure.Figure at 0x7f4e7f76feb8>"
      ]
     },
     "metadata": {},
     "output_type": "display_data"
    }
   ],
   "source": [
    "from pandas import DataFrame\n",
    "DataFrame(s140_results).plot(x='C', y=[\"Train F\", 'Devel F'], logx=True)"
   ]
  },
  {
   "cell_type": "markdown",
   "metadata": {},
   "source": [
    "# Milestone II"
   ]
  },
  {
   "cell_type": "code",
   "execution_count": 24,
   "metadata": {},
   "outputs": [],
   "source": [
    "#Sentiment140 - vectorize to fit amazon\n",
    "\n",
    "vectorizer = TfidfVectorizer(tokenizer=space_tokenizer, ngram_range=(1,2))\n",
    "s140_test_X = vectorizer.transform(s140_test_texts)"
   ]
  },
  {
   "cell_type": "code",
   "execution_count": 32,
   "metadata": {},
   "outputs": [
    {
     "name": "stdout",
     "output_type": "stream",
     "text": [
      "CPU times: user 11.6 s, sys: 76 ms, total: 11.7 s\n",
      "Wall time: 11.7 s\n"
     ]
    }
   ],
   "source": [
    "%%time\n",
    "classifier = LinearSVC(\n",
    "    C=1.0,\n",
    "    class_weight=None,\n",
    "    max_iter=100000,\n",
    "    loss='squared_hinge'\n",
    ")\n",
    "classifier.fit(amazon_train_X, amazon_train_Y)"
   ]
  },
  {
   "cell_type": "code",
   "execution_count": 33,
   "metadata": {},
   "outputs": [
    {
     "name": "stdout",
     "output_type": "stream",
     "text": [
      "CPU times: user 96 ms, sys: 0 ns, total: 96 ms\n",
      "Wall time: 98 ms\n"
     ]
    }
   ],
   "source": [
    "%%time\n",
    "\n",
    "amazon_pred_test = classifier.predict(amazon_test_X)\n",
    "s140_pred_test = classifier.predict(s140_test_X)"
   ]
  },
  {
   "cell_type": "markdown",
   "metadata": {},
   "source": [
    "## Evaluation and analysis"
   ]
  },
  {
   "cell_type": "code",
   "execution_count": 34,
   "metadata": {},
   "outputs": [
    {
     "name": "stdout",
     "output_type": "stream",
     "text": [
      "Train: Amazon, Test: Amazon\n",
      "accuracy 91.90%\n",
      "precision 92.15%, recall 91.70%, f-score 91.93% \n",
      "\n",
      "Train: Amazon, Test: Sentiment140\n",
      "accuracy 62.15%\n",
      "precision 60.80%, recall 68.24%, f-score 64.31%\n"
     ]
    }
   ],
   "source": [
    "accuracy = accuracy_score(amazon_test_Y, amazon_pred_test) \n",
    "tn, fp, fn, tp = confusion_matrix(amazon_test_Y, amazon_pred_test, labels=[0, 4]).ravel()\n",
    "precision = tp / (tp + fp)\n",
    "recall = tp / (tp + fn)\n",
    "f_score = 2 * precision * recall / (precision + recall)\n",
    "print(\"Train: Amazon, Test: Amazon\")\n",
    "print('accuracy {:.2%}'.format(accuracy))\n",
    "print('precision {:.2%}, recall {:.2%}, f-score {:.2%}'.format(precision, recall, f_score),\"\\n\")\n",
    "\n",
    "accuracy = accuracy_score(s140_test_Y, s140_pred_test) \n",
    "tn, fp, fn, tp = confusion_matrix(s140_test_Y, s140_pred_test, labels=[0, 4]).ravel()\n",
    "precision = tp / (tp + fp)\n",
    "recall = tp / (tp + fn)\n",
    "f_score = 2 * precision * recall / (precision + recall)\n",
    "print(\"Train: Amazon, Test: Sentiment140\")\n",
    "print('accuracy {:.2%}'.format(accuracy))\n",
    "print('precision {:.2%}, recall {:.2%}, f-score {:.2%}'.format(precision, recall, f_score))"
   ]
  },
  {
   "cell_type": "code",
   "execution_count": 35,
   "metadata": {},
   "outputs": [
    {
     "name": "stdout",
     "output_type": "stream",
     "text": [
      "Incorrect predictions: 121114 / 320000\n",
      "\n",
      "False positives:  50765\n",
      "(0, 4, '@djbroc gah! hearted and downloaded - love it! unfortch, my real job has taken over my far more important job of hypemhearting ')\n",
      "(0, 4, '@MarkYoung_ yup  and my back is already killing me from gardening yesterday doh!')\n",
      "(0, 4, \"had a fun night with the girls! Can't wait for Friday...and it's only Monday \")\n",
      "(0, 4, \"Still so Icky. Ugh. WTF?!?! My stomach hurts Soooo bad! I'm glad I went home.  hope I feel better soon\")\n",
      "(0, 4, 'On da way to CTW to get that top !poor me ')\n",
      "(0, 4, 'Feeling &quot;sexxay&quot; is important to me, @FunyGrl.  But lately I feel that way maybe 5% of the time.  ')\n",
      "(0, 4, '@jovian0401  im following you now! understand this website  although i really do not u')\n",
      "(0, 4, 'I want to go home ')\n",
      "(0, 4, \"Ugly Betty's finale was  MATT.  But Henry Grubstick is still adorable as he was before! Chris Gorham is &lt;3333\")\n",
      "(0, 4, 'Finished with dinner but a little upset that orlando lost to boston ')\n",
      "(0, 4, '@barbaryan me too! Idk what to get tho ')\n",
      "(0, 4, 'you never thought that a bitch like me would fuck you up. &gt; ')\n",
      "(0, 4, 'Missin my grandpa and his family so much, ')\n",
      "(0, 4, 'another weekend wasted.. headache.. internet and party in evening.. ')\n",
      "(0, 4, \"The school year flew. I'm starting to get sad about saying goodbye to a lot of them. \")\n",
      "\n",
      "\n",
      "False negatives:  70349\n",
      "(4, 0, \"@F1_lou I did not I'm afraid, just catching up now  do you have a quick link to it at all?\")\n",
      "(4, 0, '@ensredshirt oh! LOL Yeah, there are alot of squirrels that share a brain with me! @TehKimber @Whovian99 @Tri33bell @stargate_addict etc ')\n",
      "(4, 0, '@myfavoritething i am really looking forward the see the iPhone App ')\n",
      "(4, 0, \"In 30 min. we'll be having a beer in Geneva \")\n",
      "(4, 0, '@TheSUPERGIRL where are you at in the sara and solomon? ')\n",
      "(4, 0, '@3L1Z4B3TH oh ha sounds fun...... ')\n",
      "(4, 0, \"Lucas is still sleeping. Poor little guy's all tuckered out. \")\n",
      "(4, 0, 'what do I do? Wheres the Magic 8 ball? ')\n",
      "(4, 0, 'Just SAW it - dyslexia Saturday ')\n",
      "(4, 0, '@UKAsh Hopefully next time it will be like that!! Fingers crossed!!! ')\n",
      "(4, 0, \"@imcute519 hehehe  my mom used to get pissed off because i would sing what's my age again to my grandparents lololol\")\n",
      "(4, 0, '@williamtm Framerate is so low on the consoles  Around 50fps on the 4770 to, what looks like, 20fps on the PS3 ')\n",
      "(4, 0, '@beatlegirl86 its 5 or 6 there? its 2 here! hehe ')\n",
      "(4, 0, \"@TheEllenShow God might know. Then again, she might space off and then try and relate it to gloria estefan's hair \")\n",
      "(4, 0, \"i feel bad that i ran from the blood drive tonight;the timing was wrong but i'll make up for it when they giving out free movie tickets \")\n"
     ]
    }
   ],
   "source": [
    "classAndPrediction = list(zip(s140_test_Y, s140_pred_test, s140_test_texts))\n",
    "incorrect = []\n",
    "for i in classAndPrediction:\n",
    "    if i[0] != i[1]:\n",
    "        incorrect.append(i)\n",
    "\n",
    "tn, fp, fn, tp = confusion_matrix(s140_test_Y, s140_pred_test, labels=[4, 0]).ravel()\n",
    "        \n",
    "print(\"Incorrect predictions:\", len(incorrect), \"/\", len(classAndPrediction))\n",
    "\n",
    "fps = []\n",
    "fns = []\n",
    "for i in range (1, 40): \n",
    "    if incorrect[i][1] == 4:\n",
    "        if len(fps) != 15:\n",
    "            fps.append(incorrect[i])\n",
    "    else:\n",
    "        if len(fns) != 15:\n",
    "            fns.append(incorrect[i])\n",
    "\n",
    "print(\"\\nFalse positives: \", fp)\n",
    "for i in fps:\n",
    "    print(i)\n",
    "print(\"\\n\")\n",
    "\n",
    "print(\"False negatives: \", fn)\n",
    "for i in fns:\n",
    "    print(i)"
   ]
  },
  {
   "cell_type": "code",
   "execution_count": 36,
   "metadata": {},
   "outputs": [
    {
     "data": {
      "text/html": [
       "\n",
       "    <style>\n",
       "    table.eli5-weights tr:hover {\n",
       "        filter: brightness(85%);\n",
       "    }\n",
       "</style>\n",
       "\n",
       "\n",
       "\n",
       "    \n",
       "\n",
       "    \n",
       "\n",
       "    \n",
       "\n",
       "    \n",
       "\n",
       "    \n",
       "\n",
       "    \n",
       "\n",
       "\n",
       "    \n",
       "\n",
       "    \n",
       "\n",
       "    \n",
       "\n",
       "    \n",
       "        \n",
       "\n",
       "    \n",
       "\n",
       "        \n",
       "            \n",
       "                \n",
       "                \n",
       "    \n",
       "        <p style=\"margin-bottom: 0.5em; margin-top: 0em\">\n",
       "            <b>\n",
       "    \n",
       "        y=4\n",
       "    \n",
       "</b>\n",
       "\n",
       "top features\n",
       "        </p>\n",
       "    \n",
       "    <table class=\"eli5-weights\"\n",
       "           style=\"border-collapse: collapse; border: none; margin-top: 0em; table-layout: auto; margin-bottom: 2em;\">\n",
       "        <thead>\n",
       "        <tr style=\"border: none;\">\n",
       "            \n",
       "                <th style=\"padding: 0 1em 0 0.5em; text-align: right; border: none;\" title=\"Feature weights. Note that weights do not account for feature value scales, so if feature values have different scales, features with highest weights might not be the most important.\">\n",
       "                    Weight<sup>?</sup>\n",
       "                </th>\n",
       "            \n",
       "            <th style=\"padding: 0 0.5em 0 0.5em; text-align: left; border: none;\">Feature</th>\n",
       "            \n",
       "        </tr>\n",
       "        </thead>\n",
       "        <tbody>\n",
       "        \n",
       "            <tr style=\"background-color: hsl(120, 100.00%, 81.29%); border: none;\">\n",
       "    <td style=\"padding: 0 1em 0 0.5em; text-align: right; border: none;\">\n",
       "        +4.766\n",
       "    </td>\n",
       "    <td style=\"padding: 0 0.5em 0 0.5em; text-align: left; border: none;\">\n",
       "        excellent\n",
       "    </td>\n",
       "    \n",
       "</tr>\n",
       "        \n",
       "            <tr style=\"background-color: hsl(120, 100.00%, 82.34%); border: none;\">\n",
       "    <td style=\"padding: 0 1em 0 0.5em; text-align: right; border: none;\">\n",
       "        +4.391\n",
       "    </td>\n",
       "    <td style=\"padding: 0 0.5em 0 0.5em; text-align: left; border: none;\">\n",
       "        great\n",
       "    </td>\n",
       "    \n",
       "</tr>\n",
       "        \n",
       "        \n",
       "            <tr style=\"background-color: hsl(120, 100.00%, 82.34%); border: none;\">\n",
       "                <td colspan=\"2\" style=\"padding: 0 0.5em 0 0.5em; text-align: center; border: none; white-space: nowrap;\">\n",
       "                    <i>&hellip; 1519348 more positive &hellip;</i>\n",
       "                </td>\n",
       "            </tr>\n",
       "        \n",
       "\n",
       "        \n",
       "            <tr style=\"background-color: hsl(0, 100.00%, 84.78%); border: none;\">\n",
       "                <td colspan=\"2\" style=\"padding: 0 0.5em 0 0.5em; text-align: center; border: none; white-space: nowrap;\">\n",
       "                    <i>&hellip; 1227745 more negative &hellip;</i>\n",
       "                </td>\n",
       "            </tr>\n",
       "        \n",
       "        \n",
       "            <tr style=\"background-color: hsl(0, 100.00%, 84.78%); border: none;\">\n",
       "    <td style=\"padding: 0 1em 0 0.5em; text-align: right; border: none;\">\n",
       "        -3.548\n",
       "    </td>\n",
       "    <td style=\"padding: 0 0.5em 0 0.5em; text-align: left; border: none;\">\n",
       "        disappointment.\n",
       "    </td>\n",
       "    \n",
       "</tr>\n",
       "        \n",
       "            <tr style=\"background-color: hsl(0, 100.00%, 84.63%); border: none;\">\n",
       "    <td style=\"padding: 0 1em 0 0.5em; text-align: right; border: none;\">\n",
       "        -3.601\n",
       "    </td>\n",
       "    <td style=\"padding: 0 0.5em 0 0.5em; text-align: left; border: none;\">\n",
       "        lacks\n",
       "    </td>\n",
       "    \n",
       "</tr>\n",
       "        \n",
       "            <tr style=\"background-color: hsl(0, 100.00%, 84.42%); border: none;\">\n",
       "    <td style=\"padding: 0 1em 0 0.5em; text-align: right; border: none;\">\n",
       "        -3.671\n",
       "    </td>\n",
       "    <td style=\"padding: 0 0.5em 0 0.5em; text-align: left; border: none;\">\n",
       "        instead\n",
       "    </td>\n",
       "    \n",
       "</tr>\n",
       "        \n",
       "            <tr style=\"background-color: hsl(0, 100.00%, 84.39%); border: none;\">\n",
       "    <td style=\"padding: 0 1em 0 0.5em; text-align: right; border: none;\">\n",
       "        -3.680\n",
       "    </td>\n",
       "    <td style=\"padding: 0 0.5em 0 0.5em; text-align: left; border: none;\">\n",
       "        boring.\n",
       "    </td>\n",
       "    \n",
       "</tr>\n",
       "        \n",
       "            <tr style=\"background-color: hsl(0, 100.00%, 84.33%); border: none;\">\n",
       "    <td style=\"padding: 0 1em 0 0.5em; text-align: right; border: none;\">\n",
       "        -3.699\n",
       "    </td>\n",
       "    <td style=\"padding: 0 0.5em 0 0.5em; text-align: left; border: none;\">\n",
       "        disappointment\n",
       "    </td>\n",
       "    \n",
       "</tr>\n",
       "        \n",
       "            <tr style=\"background-color: hsl(0, 100.00%, 83.83%); border: none;\">\n",
       "    <td style=\"padding: 0 1em 0 0.5em; text-align: right; border: none;\">\n",
       "        -3.870\n",
       "    </td>\n",
       "    <td style=\"padding: 0 0.5em 0 0.5em; text-align: left; border: none;\">\n",
       "        two stars\n",
       "    </td>\n",
       "    \n",
       "</tr>\n",
       "        \n",
       "            <tr style=\"background-color: hsl(0, 100.00%, 83.80%); border: none;\">\n",
       "    <td style=\"padding: 0 1em 0 0.5em; text-align: right; border: none;\">\n",
       "        -3.880\n",
       "    </td>\n",
       "    <td style=\"padding: 0 0.5em 0 0.5em; text-align: left; border: none;\">\n",
       "        boring\n",
       "    </td>\n",
       "    \n",
       "</tr>\n",
       "        \n",
       "            <tr style=\"background-color: hsl(0, 100.00%, 83.63%); border: none;\">\n",
       "    <td style=\"padding: 0 1em 0 0.5em; text-align: right; border: none;\">\n",
       "        -3.938\n",
       "    </td>\n",
       "    <td style=\"padding: 0 0.5em 0 0.5em; text-align: left; border: none;\">\n",
       "        disappointing.\n",
       "    </td>\n",
       "    \n",
       "</tr>\n",
       "        \n",
       "            <tr style=\"background-color: hsl(0, 100.00%, 83.21%); border: none;\">\n",
       "    <td style=\"padding: 0 1em 0 0.5em; text-align: right; border: none;\">\n",
       "        -4.085\n",
       "    </td>\n",
       "    <td style=\"padding: 0 0.5em 0 0.5em; text-align: left; border: none;\">\n",
       "        nothing\n",
       "    </td>\n",
       "    \n",
       "</tr>\n",
       "        \n",
       "            <tr style=\"background-color: hsl(0, 100.00%, 83.17%); border: none;\">\n",
       "    <td style=\"padding: 0 1em 0 0.5em; text-align: right; border: none;\">\n",
       "        -4.098\n",
       "    </td>\n",
       "    <td style=\"padding: 0 0.5em 0 0.5em; text-align: left; border: none;\">\n",
       "        waste\n",
       "    </td>\n",
       "    \n",
       "</tr>\n",
       "        \n",
       "            <tr style=\"background-color: hsl(0, 100.00%, 83.17%); border: none;\">\n",
       "    <td style=\"padding: 0 1em 0 0.5em; text-align: right; border: none;\">\n",
       "        -4.099\n",
       "    </td>\n",
       "    <td style=\"padding: 0 0.5em 0 0.5em; text-align: left; border: none;\">\n",
       "        not recommend\n",
       "    </td>\n",
       "    \n",
       "</tr>\n",
       "        \n",
       "            <tr style=\"background-color: hsl(0, 100.00%, 83.14%); border: none;\">\n",
       "    <td style=\"padding: 0 1em 0 0.5em; text-align: right; border: none;\">\n",
       "        -4.109\n",
       "    </td>\n",
       "    <td style=\"padding: 0 0.5em 0 0.5em; text-align: left; border: none;\">\n",
       "        not\n",
       "    </td>\n",
       "    \n",
       "</tr>\n",
       "        \n",
       "            <tr style=\"background-color: hsl(0, 100.00%, 82.28%); border: none;\">\n",
       "    <td style=\"padding: 0 1em 0 0.5em; text-align: right; border: none;\">\n",
       "        -4.411\n",
       "    </td>\n",
       "    <td style=\"padding: 0 0.5em 0 0.5em; text-align: left; border: none;\">\n",
       "        disappointing\n",
       "    </td>\n",
       "    \n",
       "</tr>\n",
       "        \n",
       "            <tr style=\"background-color: hsl(0, 100.00%, 81.76%); border: none;\">\n",
       "    <td style=\"padding: 0 1em 0 0.5em; text-align: right; border: none;\">\n",
       "        -4.598\n",
       "    </td>\n",
       "    <td style=\"padding: 0 0.5em 0 0.5em; text-align: left; border: none;\">\n",
       "        disappointed\n",
       "    </td>\n",
       "    \n",
       "</tr>\n",
       "        \n",
       "            <tr style=\"background-color: hsl(0, 100.00%, 81.31%); border: none;\">\n",
       "    <td style=\"padding: 0 1em 0 0.5em; text-align: right; border: none;\">\n",
       "        -4.761\n",
       "    </td>\n",
       "    <td style=\"padding: 0 0.5em 0 0.5em; text-align: left; border: none;\">\n",
       "        poorly\n",
       "    </td>\n",
       "    \n",
       "</tr>\n",
       "        \n",
       "            <tr style=\"background-color: hsl(0, 100.00%, 80.71%); border: none;\">\n",
       "    <td style=\"padding: 0 1em 0 0.5em; text-align: right; border: none;\">\n",
       "        -4.978\n",
       "    </td>\n",
       "    <td style=\"padding: 0 0.5em 0 0.5em; text-align: left; border: none;\">\n",
       "        worst\n",
       "    </td>\n",
       "    \n",
       "</tr>\n",
       "        \n",
       "            <tr style=\"background-color: hsl(0, 100.00%, 80.45%); border: none;\">\n",
       "    <td style=\"padding: 0 1em 0 0.5em; text-align: right; border: none;\">\n",
       "        -5.073\n",
       "    </td>\n",
       "    <td style=\"padding: 0 0.5em 0 0.5em; text-align: left; border: none;\">\n",
       "        unfortunately,\n",
       "    </td>\n",
       "    \n",
       "</tr>\n",
       "        \n",
       "            <tr style=\"background-color: hsl(0, 100.00%, 80.00%); border: none;\">\n",
       "    <td style=\"padding: 0 1em 0 0.5em; text-align: right; border: none;\">\n",
       "        -5.243\n",
       "    </td>\n",
       "    <td style=\"padding: 0 0.5em 0 0.5em; text-align: left; border: none;\">\n",
       "        not worth\n",
       "    </td>\n",
       "    \n",
       "</tr>\n",
       "        \n",
       "\n",
       "        </tbody>\n",
       "    </table>\n",
       "\n",
       "            \n",
       "        \n",
       "\n",
       "        \n",
       "\n",
       "\n",
       "\n",
       "    \n",
       "\n",
       "    \n",
       "\n",
       "    \n",
       "\n",
       "    \n",
       "\n",
       "\n",
       "    \n",
       "\n",
       "    \n",
       "\n",
       "    \n",
       "\n",
       "    \n",
       "\n",
       "    \n",
       "\n",
       "    \n",
       "\n",
       "\n",
       "    \n",
       "\n",
       "    \n",
       "\n",
       "    \n",
       "\n",
       "    \n",
       "\n",
       "    \n",
       "\n",
       "    \n",
       "\n",
       "\n",
       "\n"
      ],
      "text/plain": [
       "<IPython.core.display.HTML object>"
      ]
     },
     "execution_count": 36,
     "metadata": {},
     "output_type": "execute_result"
    }
   ],
   "source": [
    "show_weights(classifier, vec=vectorizer)"
   ]
  }
 ],
 "metadata": {
  "kernelspec": {
   "display_name": "Python 3",
   "language": "python",
   "name": "python3"
  },
  "language_info": {
   "codemirror_mode": {
    "name": "ipython",
    "version": 3
   },
   "file_extension": ".py",
   "mimetype": "text/x-python",
   "name": "python",
   "nbconvert_exporter": "python",
   "pygments_lexer": "ipython3",
   "version": "3.5.2"
  }
 },
 "nbformat": 4,
 "nbformat_minor": 2
}
